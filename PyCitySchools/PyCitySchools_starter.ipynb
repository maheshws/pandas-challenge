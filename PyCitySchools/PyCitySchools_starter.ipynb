{
 "cells": [
  {
   "cell_type": "markdown",
   "metadata": {},
   "source": [
    "### Note\n",
    "* Instructions have been included for each segment. You do not have to follow them exactly, but they are included to help you think through the steps."
   ]
  },
  {
   "cell_type": "code",
   "execution_count": 69,
   "metadata": {
    "pycharm": {
     "is_executing": false
    }
   },
   "outputs": [
    {
     "data": {
      "text/plain": "   Student ID       student_name gender grade        school_name  \\\n0           0       Paul Bradley      M   9th  Huang High School   \n1           1       Victor Smith      M  12th  Huang High School   \n2           2    Kevin Rodriguez      M  12th  Huang High School   \n3           3  Dr. Richard Scott      M  12th  Huang High School   \n4           4         Bonnie Ray      F   9th  Huang High School   \n\n   reading_score  math_score  School ID      type  size   budget  \n0             66          79          0  District  2917  1910635  \n1             94          61          0  District  2917  1910635  \n2             90          60          0  District  2917  1910635  \n3             67          58          0  District  2917  1910635  \n4             97          84          0  District  2917  1910635  ",
      "text/html": "<div>\n<style scoped>\n    .dataframe tbody tr th:only-of-type {\n        vertical-align: middle;\n    }\n\n    .dataframe tbody tr th {\n        vertical-align: top;\n    }\n\n    .dataframe thead th {\n        text-align: right;\n    }\n</style>\n<table border=\"1\" class=\"dataframe\">\n  <thead>\n    <tr style=\"text-align: right;\">\n      <th></th>\n      <th>Student ID</th>\n      <th>student_name</th>\n      <th>gender</th>\n      <th>grade</th>\n      <th>school_name</th>\n      <th>reading_score</th>\n      <th>math_score</th>\n      <th>School ID</th>\n      <th>type</th>\n      <th>size</th>\n      <th>budget</th>\n    </tr>\n  </thead>\n  <tbody>\n    <tr>\n      <th>0</th>\n      <td>0</td>\n      <td>Paul Bradley</td>\n      <td>M</td>\n      <td>9th</td>\n      <td>Huang High School</td>\n      <td>66</td>\n      <td>79</td>\n      <td>0</td>\n      <td>District</td>\n      <td>2917</td>\n      <td>1910635</td>\n    </tr>\n    <tr>\n      <th>1</th>\n      <td>1</td>\n      <td>Victor Smith</td>\n      <td>M</td>\n      <td>12th</td>\n      <td>Huang High School</td>\n      <td>94</td>\n      <td>61</td>\n      <td>0</td>\n      <td>District</td>\n      <td>2917</td>\n      <td>1910635</td>\n    </tr>\n    <tr>\n      <th>2</th>\n      <td>2</td>\n      <td>Kevin Rodriguez</td>\n      <td>M</td>\n      <td>12th</td>\n      <td>Huang High School</td>\n      <td>90</td>\n      <td>60</td>\n      <td>0</td>\n      <td>District</td>\n      <td>2917</td>\n      <td>1910635</td>\n    </tr>\n    <tr>\n      <th>3</th>\n      <td>3</td>\n      <td>Dr. Richard Scott</td>\n      <td>M</td>\n      <td>12th</td>\n      <td>Huang High School</td>\n      <td>67</td>\n      <td>58</td>\n      <td>0</td>\n      <td>District</td>\n      <td>2917</td>\n      <td>1910635</td>\n    </tr>\n    <tr>\n      <th>4</th>\n      <td>4</td>\n      <td>Bonnie Ray</td>\n      <td>F</td>\n      <td>9th</td>\n      <td>Huang High School</td>\n      <td>97</td>\n      <td>84</td>\n      <td>0</td>\n      <td>District</td>\n      <td>2917</td>\n      <td>1910635</td>\n    </tr>\n  </tbody>\n</table>\n</div>"
     },
     "metadata": {},
     "output_type": "execute_result",
     "execution_count": 69
    }
   ],
   "source": [
    "# Dependencies and Setup\n",
    "from operator import index\n",
    "import pandas as pd\n",
    "\n",
    "# File to Load (Remember to Change These)\n",
    "from hypothesis.extra.pandas import columns\n",
    "school_data_to_load = \"Resources/schools_complete.csv\"\n",
    "student_data_to_load = \"Resources/students_complete.csv\"\n",
    "\n",
    "# Read School and Student Data File and store into Pandas Data Frames\n",
    "school_data = pd.read_csv(school_data_to_load)\n",
    "student_data = pd.read_csv(student_data_to_load)\n",
    "\n",
    "# Combine the data into a single dataset\n",
    "school_data_complete = pd.merge(student_data, school_data, how=\"left\", on=[\"school_name\", \"school_name\"])\n",
    "school_data_complete.head()"
   ]
  },
  {
   "cell_type": "markdown",
   "metadata": {},
   "source": [
    "## District Summary\n",
    "\n",
    "* Calculate the total number of schools\n",
    "\n",
    "* Calculate the total number of students\n",
    "\n",
    "* Calculate the total budget\n",
    "\n",
    "* Calculate the average math score \n",
    "\n",
    "* Calculate the average reading score\n",
    "\n",
    "* Calculate the overall passing rate (overall average score), i.e. (avg. math score + avg. reading score)/2\n",
    "\n",
    "* Calculate the percentage of students with a passing math score (70 or greater)\n",
    "\n",
    "* Calculate the percentage of students with a passing reading score (70 or greater)\n",
    "\n",
    "* Create a dataframe to hold the above results\n",
    "\n",
    "* Optional: give the displayed data cleaner formatting"
   ]
  },
  {
   "cell_type": "code",
   "execution_count": 70,
   "metadata": {
    "pycharm": {
     "is_executing": false
    }
   },
   "outputs": [
    {
     "data": {
      "text/plain": "15"
     },
     "metadata": {},
     "output_type": "execute_result",
     "execution_count": 70
    }
   ],
   "source": [
    "# Calculate the total number of schools\n",
    "total_schools = school_data['school_name'].nunique()\n",
    "total_schools"
   ]
  },
  {
   "cell_type": "code",
   "execution_count": 71,
   "outputs": [
    {
     "data": {
      "text/plain": "39170"
     },
     "metadata": {},
     "output_type": "execute_result",
     "execution_count": 71
    }
   ],
   "source": [
    "#total students\n",
    "total_students = student_data[\"Student ID\"].nunique()\n",
    "# another way school_data['size'].sum()\n",
    "total_students"
   ],
   "metadata": {
    "collapsed": false,
    "pycharm": {
     "name": "#%%\n",
     "is_executing": false
    }
   }
  },
  {
   "cell_type": "code",
   "execution_count": 72,
   "outputs": [
    {
     "data": {
      "text/plain": "24649428"
     },
     "metadata": {},
     "output_type": "execute_result",
     "execution_count": 72
    }
   ],
   "source": [
    "# * Calculate the total budget#\n",
    "total_budget = school_data['budget'].sum()\n",
    "total_budget"
   ],
   "metadata": {
    "collapsed": false,
    "pycharm": {
     "name": "#%%\n",
     "is_executing": false
    }
   }
  },
  {
   "cell_type": "code",
   "execution_count": 73,
   "outputs": [
    {
     "data": {
      "text/plain": "78.99"
     },
     "metadata": {},
     "output_type": "execute_result",
     "execution_count": 73
    }
   ],
   "source": [
    "# * Calculate the average math score #\n",
    "avg_math_score = round(school_data_complete['math_score'].mean(),2)\n",
    "avg_math_score"
   ],
   "metadata": {
    "collapsed": false,
    "pycharm": {
     "name": "#%%\n",
     "is_executing": false
    }
   }
  },
  {
   "cell_type": "code",
   "execution_count": 74,
   "outputs": [
    {
     "data": {
      "text/plain": "81.88"
     },
     "metadata": {},
     "output_type": "execute_result",
     "execution_count": 74
    }
   ],
   "source": [
    "# * Calculate the average reading score#\n",
    "avg_read_score = round(school_data_complete['reading_score'].mean(),2)\n",
    "avg_read_score"
   ],
   "metadata": {
    "collapsed": false,
    "pycharm": {
     "name": "#%%\n",
     "is_executing": false
    }
   }
  },
  {
   "cell_type": "code",
   "execution_count": 75,
   "outputs": [
    {
     "data": {
      "text/plain": "74.98"
     },
     "metadata": {},
     "output_type": "execute_result",
     "execution_count": 75
    }
   ],
   "source": [
    "# Calculate the percentage of students with a passing math score (70 or greater)\n",
    "stupassmath_count = school_data_complete[school_data_complete.math_score >=70].count()[\"student_name\"]\n",
    "stuprcntpassmathscore = round((stupassmath_count/total_students)*100,2)\n",
    "stuprcntpassmathscore"
   ],
   "metadata": {
    "collapsed": false,
    "pycharm": {
     "name": "#%%\n",
     "is_executing": false
    }
   }
  },
  {
   "cell_type": "code",
   "execution_count": 76,
   "outputs": [
    {
     "data": {
      "text/plain": "85.81"
     },
     "metadata": {},
     "output_type": "execute_result",
     "execution_count": 76
    }
   ],
   "source": [
    "# Calculate the percentage of students with a passing reading score (70 or greater)\n",
    "stupassread_count = school_data_complete[school_data_complete.reading_score >=70].count()[\"student_name\"]\n",
    "stuprcntpassreadscore = round((stupassread_count/total_students)*100,2)\n",
    "stuprcntpassreadscore\n"
   ],
   "metadata": {
    "collapsed": false,
    "pycharm": {
     "name": "#%%\n",
     "is_executing": false
    }
   }
  },
  {
   "cell_type": "code",
   "execution_count": 77,
   "outputs": [
    {
     "data": {
      "text/plain": "80.4"
     },
     "metadata": {},
     "output_type": "execute_result",
     "execution_count": 77
    }
   ],
   "source": [
    "# Calculate the overall passing rate (overall average score), i.e. (avg. math score + avg. reading score)/2\n",
    "overall_passer_rating = round((stuprcntpassmathscore+stuprcntpassreadscore)/2,2)\n",
    "overall_passer_rating"
   ],
   "metadata": {
    "collapsed": false,
    "pycharm": {
     "name": "#%%\n",
     "is_executing": false
    }
   }
  },
  {
   "cell_type": "code",
   "execution_count": 78,
   "outputs": [
    {
     "data": {
      "text/plain": "   Total Schools  Total Students  Total Budget  Average Math Score  \\\n0             15           39170      24649428               78.99   \n\n   Average Reading Score  % Passing Math  % Passing Reading  \\\n0                  81.88           74.98              85.81   \n\n   Overall Passing rate  \n0                  80.4  ",
      "text/html": "<div>\n<style scoped>\n    .dataframe tbody tr th:only-of-type {\n        vertical-align: middle;\n    }\n\n    .dataframe tbody tr th {\n        vertical-align: top;\n    }\n\n    .dataframe thead th {\n        text-align: right;\n    }\n</style>\n<table border=\"1\" class=\"dataframe\">\n  <thead>\n    <tr style=\"text-align: right;\">\n      <th></th>\n      <th>Total Schools</th>\n      <th>Total Students</th>\n      <th>Total Budget</th>\n      <th>Average Math Score</th>\n      <th>Average Reading Score</th>\n      <th>% Passing Math</th>\n      <th>% Passing Reading</th>\n      <th>Overall Passing rate</th>\n    </tr>\n  </thead>\n  <tbody>\n    <tr>\n      <th>0</th>\n      <td>15</td>\n      <td>39170</td>\n      <td>24649428</td>\n      <td>78.99</td>\n      <td>81.88</td>\n      <td>74.98</td>\n      <td>85.81</td>\n      <td>80.4</td>\n    </tr>\n  </tbody>\n</table>\n</div>"
     },
     "metadata": {},
     "output_type": "execute_result",
     "execution_count": 78
    }
   ],
   "source": [
    "# District Summary Overview Table\n",
    "district_Summary_df = pd.DataFrame({\"Total Schools\":[total_schools],\n",
    "                      \"Total Students\":[total_students],\n",
    "                      \"Total Budget\":[total_budget],\n",
    "                      \"Average Math Score\":[avg_math_score],\n",
    "                      'Average Reading Score':[avg_read_score],\n",
    "                      \"% Passing Math\":[stuprcntpassmathscore],\n",
    "                      \"% Passing Reading\":[stuprcntpassreadscore],\n",
    "                      \"Overall Passing rate\":[overall_passer_rating]})\n",
    "district_Summary_df\n"
   ],
   "metadata": {
    "collapsed": false,
    "pycharm": {
     "name": "#%%\n",
     "is_executing": false
    }
   }
  },
  {
   "cell_type": "markdown",
   "metadata": {},
   "source": [
    "## School Summary"
   ]
  },
  {
   "cell_type": "markdown",
   "metadata": {},
   "source": [
    "* Create an overview table that summarizes key metrics about each school, including:\n",
    "  * School Name\n",
    "  * School Type\n",
    "  * Total Students\n",
    "  * Total School Budget\n",
    "  * Per Student Budget\n",
    "  * Average Math Score\n",
    "  * Average Reading Score\n",
    "  * % Passing Math\n",
    "  * % Passing Reading\n",
    "  * Overall Passing Rate (Average of the above two)\n",
    "  \n",
    "* Create a dataframe to hold the above results"
   ]
  },
  {
   "cell_type": "code",
   "execution_count": 79,
   "outputs": [
    {
     "data": {
      "text/plain": "school_name\nHuang High School        District\nFigueroa High School     District\nShelton High School       Charter\nHernandez High School    District\nGriffin High School       Charter\nWilson High School        Charter\nCabrera High School       Charter\nBailey High School       District\nHolden High School        Charter\nPena High School          Charter\nWright High School        Charter\nRodriguez High School    District\nJohnson High School      District\nFord High School         District\nThomas High School        Charter\nName: type, dtype: object"
     },
     "metadata": {},
     "output_type": "execute_result",
     "execution_count": 79
    }
   ],
   "source": [
    "# school type - it is being indexed on school name so it is being displayed as well\n",
    "school_type = school_data.set_index(['school_name'])['type']\n",
    "school_type"
   ],
   "metadata": {
    "collapsed": false,
    "pycharm": {
     "name": "#%%\n",
     "is_executing": false
    }
   }
  },
  {
   "cell_type": "code",
   "execution_count": 80,
   "outputs": [
    {
     "data": {
      "text/plain": "Bailey High School       4976\nJohnson High School      4761\nHernandez High School    4635\nRodriguez High School    3999\nFigueroa High School     2949\nHuang High School        2917\nFord High School         2739\nWilson High School       2283\nCabrera High School      1858\nWright High School       1800\nShelton High School      1761\nThomas High School       1635\nGriffin High School      1468\nPena High School          962\nHolden High School        427\nName: school_name, dtype: int64"
     },
     "metadata": {},
     "output_type": "execute_result",
     "execution_count": 80
    }
   ],
   "source": [
    "#   * Total Students\n",
    "total_students_byschool = school_data_complete['school_name'].value_counts()\n",
    "total_students_byschool\n"
   ],
   "metadata": {
    "collapsed": false,
    "pycharm": {
     "name": "#%%\n",
     "is_executing": false
    }
   }
  },
  {
   "cell_type": "code",
   "execution_count": 81,
   "outputs": [
    {
     "data": {
      "text/plain": "school_name\nHuang High School        1910635\nFigueroa High School     1884411\nShelton High School      1056600\nHernandez High School    3022020\nGriffin High School       917500\nWilson High School       1319574\nCabrera High School      1081356\nBailey High School       3124928\nHolden High School        248087\nPena High School          585858\nWright High School       1049400\nRodriguez High School    2547363\nJohnson High School      3094650\nFord High School         1763916\nThomas High School       1043130\nName: budget, dtype: int64"
     },
     "metadata": {},
     "output_type": "execute_result",
     "execution_count": 81
    }
   ],
   "source": [
    "#   * Total School Budget\n",
    "budget_by_school = school_data.set_index(['school_name'])['budget']\n",
    "budget_by_school"
   ],
   "metadata": {
    "collapsed": false,
    "pycharm": {
     "name": "#%%\n",
     "is_executing": false
    }
   }
  },
  {
   "cell_type": "code",
   "execution_count": 82,
   "outputs": [],
   "source": [
    "# Create a dataframe for the above three values\n",
    "df_schoolsummary = pd.concat([school_type,total_students_byschool,budget_by_school],axis=1)\n",
    "#rename the column for student count\n",
    "df_schoolsummary.rename(columns={'school_name':'student_count'},inplace=True)\n"
   ],
   "metadata": {
    "collapsed": false,
    "pycharm": {
     "name": "#%%\n",
     "is_executing": false
    }
   }
  },
  {
   "cell_type": "code",
   "execution_count": 83,
   "outputs": [],
   "source": [
    "#   * Per Student Budget by School\n",
    "df_schoolsummary['student_budget'] = pd.Series(df_schoolsummary['budget']/df_schoolsummary['student_count'])\n",
    "df_schoolsummary['student_budget']\n",
    "stu_budget_list = df_schoolsummary['student_budget'].to_list()"
   ],
   "metadata": {
    "collapsed": false,
    "pycharm": {
     "name": "#%%\n",
     "is_executing": false
    }
   }
  },
  {
   "cell_type": "code",
   "execution_count": 84,
   "outputs": [
    {
     "data": {
      "text/plain": "Huang High School        76.63\nFigueroa High School     76.71\nShelton High School      83.36\nHernandez High School    77.29\nGriffin High School      83.35\nWilson High School       83.27\nCabrera High School      83.06\nBailey High School       77.05\nHolden High School       83.80\nPena High School         83.84\nWright High School       83.68\nRodriguez High School    76.84\nJohnson High School      77.07\nFord High School         77.10\nThomas High School       83.42\nName: average_math_score, dtype: float64"
     },
     "metadata": {},
     "output_type": "execute_result",
     "execution_count": 84
    }
   ],
   "source": [
    "#   * Average Math Score by school\n",
    "df_schoolsummary['average_math_score'] = round(school_data_complete.groupby([\"school_name\"]).mean()[\"math_score\"],2)\n",
    "df_schoolsummary['average_math_score']"
   ],
   "metadata": {
    "collapsed": false,
    "pycharm": {
     "name": "#%%\n",
     "is_executing": false
    }
   }
  },
  {
   "cell_type": "code",
   "execution_count": 85,
   "outputs": [
    {
     "data": {
      "text/plain": "Huang High School        81.18\nFigueroa High School     81.16\nShelton High School      83.73\nHernandez High School    80.93\nGriffin High School      83.82\nWilson High School       83.99\nCabrera High School      83.98\nBailey High School       81.03\nHolden High School       83.81\nPena High School         84.04\nWright High School       83.96\nRodriguez High School    80.74\nJohnson High School      80.97\nFord High School         80.75\nThomas High School       83.85\nName: average_read_score, dtype: float64"
     },
     "metadata": {},
     "output_type": "execute_result",
     "execution_count": 85
    }
   ],
   "source": [
    "#   * Average Reading Score\n",
    "df_schoolsummary['average_read_score'] = round(school_data_complete.groupby([\"school_name\"]).mean()[\"reading_score\"],2)\n",
    "df_schoolsummary['average_read_score']"
   ],
   "metadata": {
    "collapsed": false,
    "pycharm": {
     "name": "#%%\n",
     "is_executing": false
    }
   }
  },
  {
   "cell_type": "code",
   "execution_count": 86,
   "outputs": [
    {
     "data": {
      "text/plain": "Huang High School        65.68\nFigueroa High School     65.99\nShelton High School      93.87\nHernandez High School    66.75\nGriffin High School      93.39\nWilson High School       93.87\nCabrera High School      94.13\nBailey High School       66.68\nHolden High School       92.51\nPena High School         94.59\nWright High School       93.33\nRodriguez High School    66.37\nJohnson High School      66.06\nFord High School         68.31\nThomas High School       93.27\nName: % Passing Math, dtype: float64"
     },
     "metadata": {},
     "output_type": "execute_result",
     "execution_count": 86
    }
   ],
   "source": [
    "# Calculate the percentage of students with a passing math score (70 or greater)\n",
    "#first create a dataframe which only contains students who got 70 or greater in math\n",
    "df_math70 = school_data_complete[school_data_complete[\"math_score\"]>=70]\n",
    "#now group it by school name\n",
    "df_schoolsummary['% Passing Math'] = round(((df_math70.groupby([\"school_name\"]).count()[\"student_name\"])/df_schoolsummary['student_count'])*100,2)\n",
    "df_schoolsummary['% Passing Math']"
   ],
   "metadata": {
    "collapsed": false,
    "pycharm": {
     "name": "#%%\n",
     "is_executing": false
    }
   }
  },
  {
   "cell_type": "code",
   "execution_count": 87,
   "outputs": [
    {
     "data": {
      "text/plain": "Huang High School        81.32\nFigueroa High School     80.74\nShelton High School      95.85\nHernandez High School    80.86\nGriffin High School      97.14\nWilson High School       96.54\nCabrera High School      97.04\nBailey High School       81.93\nHolden High School       96.25\nPena High School         95.95\nWright High School       96.61\nRodriguez High School    80.22\nJohnson High School      81.22\nFord High School         79.30\nThomas High School       97.31\nName: % Passing Reading, dtype: float64"
     },
     "metadata": {},
     "output_type": "execute_result",
     "execution_count": 87
    }
   ],
   "source": [
    "# Calculate the percentage of students with a passing reading score (70 or greater)\n",
    "#first create a dataframe which only contains students who got 70 or greater in reading\n",
    "df_read70 = school_data_complete[school_data_complete[\"reading_score\"]>=70]\n",
    "df_schoolsummary['% Passing Reading'] = round(((df_read70.groupby([\"school_name\"]).count()[\"student_name\"])/df_schoolsummary['student_count'])*100,2)\n",
    "df_schoolsummary['% Passing Reading']"
   ],
   "metadata": {
    "collapsed": false,
    "pycharm": {
     "name": "#%%\n",
     "is_executing": false
    }
   }
  },
  {
   "cell_type": "code",
   "execution_count": 88,
   "outputs": [
    {
     "data": {
      "text/plain": "Huang High School        73.50\nFigueroa High School     73.36\nShelton High School      94.86\nHernandez High School    73.81\nGriffin High School      95.26\nWilson High School       95.21\nCabrera High School      95.58\nBailey High School       74.31\nHolden High School       94.38\nPena High School         95.27\nWright High School       94.97\nRodriguez High School    73.30\nJohnson High School      73.64\nFord High School         73.81\nThomas High School       95.29\nName: Overall Passing Rate, dtype: float64"
     },
     "metadata": {},
     "output_type": "execute_result",
     "execution_count": 88
    }
   ],
   "source": [
    "#   * Overall Passing Rate (Average of the above two)\n",
    "df_schoolsummary['Overall Passing Rate'] = round((df_schoolsummary['% Passing Math'] + df_schoolsummary['% Passing Reading'])/2,2)\n",
    "df_schoolsummary['Overall Passing Rate']"
   ],
   "metadata": {
    "collapsed": false,
    "pycharm": {
     "name": "#%%\n",
     "is_executing": false
    }
   }
  },
  {
   "cell_type": "code",
   "execution_count": 89,
   "outputs": [
    {
     "data": {
      "text/plain": "                           type  student_count         budget student_budget  \\\nHuang High School      District           2917  $1,910,635.00        $655.00   \nFigueroa High School   District           2949  $1,884,411.00        $639.00   \nShelton High School     Charter           1761  $1,056,600.00        $600.00   \nHernandez High School  District           4635  $3,022,020.00        $652.00   \nGriffin High School     Charter           1468    $917,500.00        $625.00   \nWilson High School      Charter           2283  $1,319,574.00        $578.00   \nCabrera High School     Charter           1858  $1,081,356.00        $582.00   \nBailey High School     District           4976  $3,124,928.00        $628.00   \nHolden High School      Charter            427    $248,087.00        $581.00   \nPena High School        Charter            962    $585,858.00        $609.00   \nWright High School      Charter           1800  $1,049,400.00        $583.00   \nRodriguez High School  District           3999  $2,547,363.00        $637.00   \nJohnson High School    District           4761  $3,094,650.00        $650.00   \nFord High School       District           2739  $1,763,916.00        $644.00   \nThomas High School      Charter           1635  $1,043,130.00        $638.00   \n\n                       average_math_score  average_read_score  % Passing Math  \\\nHuang High School                   76.63               81.18           65.68   \nFigueroa High School                76.71               81.16           65.99   \nShelton High School                 83.36               83.73           93.87   \nHernandez High School               77.29               80.93           66.75   \nGriffin High School                 83.35               83.82           93.39   \nWilson High School                  83.27               83.99           93.87   \nCabrera High School                 83.06               83.98           94.13   \nBailey High School                  77.05               81.03           66.68   \nHolden High School                  83.80               83.81           92.51   \nPena High School                    83.84               84.04           94.59   \nWright High School                  83.68               83.96           93.33   \nRodriguez High School               76.84               80.74           66.37   \nJohnson High School                 77.07               80.97           66.06   \nFord High School                    77.10               80.75           68.31   \nThomas High School                  83.42               83.85           93.27   \n\n                       % Passing Reading  Overall Passing Rate  \nHuang High School                  81.32                 73.50  \nFigueroa High School               80.74                 73.36  \nShelton High School                95.85                 94.86  \nHernandez High School              80.86                 73.81  \nGriffin High School                97.14                 95.26  \nWilson High School                 96.54                 95.21  \nCabrera High School                97.04                 95.58  \nBailey High School                 81.93                 74.31  \nHolden High School                 96.25                 94.38  \nPena High School                   95.95                 95.27  \nWright High School                 96.61                 94.97  \nRodriguez High School              80.22                 73.30  \nJohnson High School                81.22                 73.64  \nFord High School                   79.30                 73.81  \nThomas High School                 97.31                 95.29  ",
      "text/html": "<div>\n<style scoped>\n    .dataframe tbody tr th:only-of-type {\n        vertical-align: middle;\n    }\n\n    .dataframe tbody tr th {\n        vertical-align: top;\n    }\n\n    .dataframe thead th {\n        text-align: right;\n    }\n</style>\n<table border=\"1\" class=\"dataframe\">\n  <thead>\n    <tr style=\"text-align: right;\">\n      <th></th>\n      <th>type</th>\n      <th>student_count</th>\n      <th>budget</th>\n      <th>student_budget</th>\n      <th>average_math_score</th>\n      <th>average_read_score</th>\n      <th>% Passing Math</th>\n      <th>% Passing Reading</th>\n      <th>Overall Passing Rate</th>\n    </tr>\n  </thead>\n  <tbody>\n    <tr>\n      <th>Huang High School</th>\n      <td>District</td>\n      <td>2917</td>\n      <td>$1,910,635.00</td>\n      <td>$655.00</td>\n      <td>76.63</td>\n      <td>81.18</td>\n      <td>65.68</td>\n      <td>81.32</td>\n      <td>73.50</td>\n    </tr>\n    <tr>\n      <th>Figueroa High School</th>\n      <td>District</td>\n      <td>2949</td>\n      <td>$1,884,411.00</td>\n      <td>$639.00</td>\n      <td>76.71</td>\n      <td>81.16</td>\n      <td>65.99</td>\n      <td>80.74</td>\n      <td>73.36</td>\n    </tr>\n    <tr>\n      <th>Shelton High School</th>\n      <td>Charter</td>\n      <td>1761</td>\n      <td>$1,056,600.00</td>\n      <td>$600.00</td>\n      <td>83.36</td>\n      <td>83.73</td>\n      <td>93.87</td>\n      <td>95.85</td>\n      <td>94.86</td>\n    </tr>\n    <tr>\n      <th>Hernandez High School</th>\n      <td>District</td>\n      <td>4635</td>\n      <td>$3,022,020.00</td>\n      <td>$652.00</td>\n      <td>77.29</td>\n      <td>80.93</td>\n      <td>66.75</td>\n      <td>80.86</td>\n      <td>73.81</td>\n    </tr>\n    <tr>\n      <th>Griffin High School</th>\n      <td>Charter</td>\n      <td>1468</td>\n      <td>$917,500.00</td>\n      <td>$625.00</td>\n      <td>83.35</td>\n      <td>83.82</td>\n      <td>93.39</td>\n      <td>97.14</td>\n      <td>95.26</td>\n    </tr>\n    <tr>\n      <th>Wilson High School</th>\n      <td>Charter</td>\n      <td>2283</td>\n      <td>$1,319,574.00</td>\n      <td>$578.00</td>\n      <td>83.27</td>\n      <td>83.99</td>\n      <td>93.87</td>\n      <td>96.54</td>\n      <td>95.21</td>\n    </tr>\n    <tr>\n      <th>Cabrera High School</th>\n      <td>Charter</td>\n      <td>1858</td>\n      <td>$1,081,356.00</td>\n      <td>$582.00</td>\n      <td>83.06</td>\n      <td>83.98</td>\n      <td>94.13</td>\n      <td>97.04</td>\n      <td>95.58</td>\n    </tr>\n    <tr>\n      <th>Bailey High School</th>\n      <td>District</td>\n      <td>4976</td>\n      <td>$3,124,928.00</td>\n      <td>$628.00</td>\n      <td>77.05</td>\n      <td>81.03</td>\n      <td>66.68</td>\n      <td>81.93</td>\n      <td>74.31</td>\n    </tr>\n    <tr>\n      <th>Holden High School</th>\n      <td>Charter</td>\n      <td>427</td>\n      <td>$248,087.00</td>\n      <td>$581.00</td>\n      <td>83.80</td>\n      <td>83.81</td>\n      <td>92.51</td>\n      <td>96.25</td>\n      <td>94.38</td>\n    </tr>\n    <tr>\n      <th>Pena High School</th>\n      <td>Charter</td>\n      <td>962</td>\n      <td>$585,858.00</td>\n      <td>$609.00</td>\n      <td>83.84</td>\n      <td>84.04</td>\n      <td>94.59</td>\n      <td>95.95</td>\n      <td>95.27</td>\n    </tr>\n    <tr>\n      <th>Wright High School</th>\n      <td>Charter</td>\n      <td>1800</td>\n      <td>$1,049,400.00</td>\n      <td>$583.00</td>\n      <td>83.68</td>\n      <td>83.96</td>\n      <td>93.33</td>\n      <td>96.61</td>\n      <td>94.97</td>\n    </tr>\n    <tr>\n      <th>Rodriguez High School</th>\n      <td>District</td>\n      <td>3999</td>\n      <td>$2,547,363.00</td>\n      <td>$637.00</td>\n      <td>76.84</td>\n      <td>80.74</td>\n      <td>66.37</td>\n      <td>80.22</td>\n      <td>73.30</td>\n    </tr>\n    <tr>\n      <th>Johnson High School</th>\n      <td>District</td>\n      <td>4761</td>\n      <td>$3,094,650.00</td>\n      <td>$650.00</td>\n      <td>77.07</td>\n      <td>80.97</td>\n      <td>66.06</td>\n      <td>81.22</td>\n      <td>73.64</td>\n    </tr>\n    <tr>\n      <th>Ford High School</th>\n      <td>District</td>\n      <td>2739</td>\n      <td>$1,763,916.00</td>\n      <td>$644.00</td>\n      <td>77.10</td>\n      <td>80.75</td>\n      <td>68.31</td>\n      <td>79.30</td>\n      <td>73.81</td>\n    </tr>\n    <tr>\n      <th>Thomas High School</th>\n      <td>Charter</td>\n      <td>1635</td>\n      <td>$1,043,130.00</td>\n      <td>$638.00</td>\n      <td>83.42</td>\n      <td>83.85</td>\n      <td>93.27</td>\n      <td>97.31</td>\n      <td>95.29</td>\n    </tr>\n  </tbody>\n</table>\n</div>"
     },
     "metadata": {},
     "output_type": "execute_result",
     "execution_count": 89
    }
   ],
   "source": [
    "# * Create a dataframe to hold the above results : df_schoolsummary\n",
    "# Format the dollar values before display\n",
    "df_schoolsummary[\"budget\"] = df_schoolsummary[\"budget\"].map(\"${:,.2f}\".format)\n",
    "df_schoolsummary[\"student_budget\"] = df_schoolsummary[\"student_budget\"].map(\"${:,.2f}\".format)\n",
    "# School Summary Overview Table\n",
    "df_schoolsummary"
   ],
   "metadata": {
    "collapsed": false,
    "pycharm": {
     "name": "#%%\n",
     "is_executing": false
    }
   }
  },
  {
   "cell_type": "markdown",
   "metadata": {},
   "source": [
    "## Top Performing Schools (By Passing Rate)"
   ]
  },
  {
   "cell_type": "markdown",
   "metadata": {},
   "source": [
    "* Sort and display the top five schools in overall passing rate"
   ]
  },
  {
   "cell_type": "code",
   "execution_count": 90,
   "metadata": {
    "pycharm": {
     "is_executing": false
    }
   },
   "outputs": [
    {
     "data": {
      "text/plain": "                        type  student_count         budget student_budget  \\\nCabrera High School  Charter           1858  $1,081,356.00        $582.00   \nThomas High School   Charter           1635  $1,043,130.00        $638.00   \nPena High School     Charter            962    $585,858.00        $609.00   \nGriffin High School  Charter           1468    $917,500.00        $625.00   \nWilson High School   Charter           2283  $1,319,574.00        $578.00   \n\n                     average_math_score  average_read_score  % Passing Math  \\\nCabrera High School               83.06               83.98           94.13   \nThomas High School                83.42               83.85           93.27   \nPena High School                  83.84               84.04           94.59   \nGriffin High School               83.35               83.82           93.39   \nWilson High School                83.27               83.99           93.87   \n\n                     % Passing Reading  Overall Passing Rate  \nCabrera High School              97.04                 95.58  \nThomas High School               97.31                 95.29  \nPena High School                 95.95                 95.27  \nGriffin High School              97.14                 95.26  \nWilson High School               96.54                 95.21  ",
      "text/html": "<div>\n<style scoped>\n    .dataframe tbody tr th:only-of-type {\n        vertical-align: middle;\n    }\n\n    .dataframe tbody tr th {\n        vertical-align: top;\n    }\n\n    .dataframe thead th {\n        text-align: right;\n    }\n</style>\n<table border=\"1\" class=\"dataframe\">\n  <thead>\n    <tr style=\"text-align: right;\">\n      <th></th>\n      <th>type</th>\n      <th>student_count</th>\n      <th>budget</th>\n      <th>student_budget</th>\n      <th>average_math_score</th>\n      <th>average_read_score</th>\n      <th>% Passing Math</th>\n      <th>% Passing Reading</th>\n      <th>Overall Passing Rate</th>\n    </tr>\n  </thead>\n  <tbody>\n    <tr>\n      <th>Cabrera High School</th>\n      <td>Charter</td>\n      <td>1858</td>\n      <td>$1,081,356.00</td>\n      <td>$582.00</td>\n      <td>83.06</td>\n      <td>83.98</td>\n      <td>94.13</td>\n      <td>97.04</td>\n      <td>95.58</td>\n    </tr>\n    <tr>\n      <th>Thomas High School</th>\n      <td>Charter</td>\n      <td>1635</td>\n      <td>$1,043,130.00</td>\n      <td>$638.00</td>\n      <td>83.42</td>\n      <td>83.85</td>\n      <td>93.27</td>\n      <td>97.31</td>\n      <td>95.29</td>\n    </tr>\n    <tr>\n      <th>Pena High School</th>\n      <td>Charter</td>\n      <td>962</td>\n      <td>$585,858.00</td>\n      <td>$609.00</td>\n      <td>83.84</td>\n      <td>84.04</td>\n      <td>94.59</td>\n      <td>95.95</td>\n      <td>95.27</td>\n    </tr>\n    <tr>\n      <th>Griffin High School</th>\n      <td>Charter</td>\n      <td>1468</td>\n      <td>$917,500.00</td>\n      <td>$625.00</td>\n      <td>83.35</td>\n      <td>83.82</td>\n      <td>93.39</td>\n      <td>97.14</td>\n      <td>95.26</td>\n    </tr>\n    <tr>\n      <th>Wilson High School</th>\n      <td>Charter</td>\n      <td>2283</td>\n      <td>$1,319,574.00</td>\n      <td>$578.00</td>\n      <td>83.27</td>\n      <td>83.99</td>\n      <td>93.87</td>\n      <td>96.54</td>\n      <td>95.21</td>\n    </tr>\n  </tbody>\n</table>\n</div>"
     },
     "metadata": {},
     "output_type": "execute_result",
     "execution_count": 90
    }
   ],
   "source": [
    "### Top Performing Schools (By Passing Rate)\n",
    "#* Create a table that highlights the top 5 performing schools based on Overall Passing Rate. Include all of the same metrics as above.\n",
    "top_five_schools = df_schoolsummary.sort_values([\"Overall Passing Rate\"],ascending = False).head(5)\n",
    "top_five_schools"
   ]
  },
  {
   "cell_type": "markdown",
   "metadata": {},
   "source": [
    "## Bottom Performing Schools (By Passing Rate)"
   ]
  },
  {
   "cell_type": "markdown",
   "metadata": {},
   "source": [
    "* Sort and display the five worst-performing schools\n"
   ]
  },
  {
   "cell_type": "code",
   "execution_count": 91,
   "metadata": {
    "pycharm": {
     "is_executing": false
    }
   },
   "outputs": [
    {
     "data": {
      "text/plain": "                           type  student_count         budget student_budget  \\\nFord High School       District           2739  $1,763,916.00        $644.00   \nJohnson High School    District           4761  $3,094,650.00        $650.00   \nHuang High School      District           2917  $1,910,635.00        $655.00   \nFigueroa High School   District           2949  $1,884,411.00        $639.00   \nRodriguez High School  District           3999  $2,547,363.00        $637.00   \n\n                       average_math_score  average_read_score  % Passing Math  \\\nFord High School                    77.10               80.75           68.31   \nJohnson High School                 77.07               80.97           66.06   \nHuang High School                   76.63               81.18           65.68   \nFigueroa High School                76.71               81.16           65.99   \nRodriguez High School               76.84               80.74           66.37   \n\n                       % Passing Reading  Overall Passing Rate  \nFord High School                   79.30                 73.81  \nJohnson High School                81.22                 73.64  \nHuang High School                  81.32                 73.50  \nFigueroa High School               80.74                 73.36  \nRodriguez High School              80.22                 73.30  ",
      "text/html": "<div>\n<style scoped>\n    .dataframe tbody tr th:only-of-type {\n        vertical-align: middle;\n    }\n\n    .dataframe tbody tr th {\n        vertical-align: top;\n    }\n\n    .dataframe thead th {\n        text-align: right;\n    }\n</style>\n<table border=\"1\" class=\"dataframe\">\n  <thead>\n    <tr style=\"text-align: right;\">\n      <th></th>\n      <th>type</th>\n      <th>student_count</th>\n      <th>budget</th>\n      <th>student_budget</th>\n      <th>average_math_score</th>\n      <th>average_read_score</th>\n      <th>% Passing Math</th>\n      <th>% Passing Reading</th>\n      <th>Overall Passing Rate</th>\n    </tr>\n  </thead>\n  <tbody>\n    <tr>\n      <th>Ford High School</th>\n      <td>District</td>\n      <td>2739</td>\n      <td>$1,763,916.00</td>\n      <td>$644.00</td>\n      <td>77.10</td>\n      <td>80.75</td>\n      <td>68.31</td>\n      <td>79.30</td>\n      <td>73.81</td>\n    </tr>\n    <tr>\n      <th>Johnson High School</th>\n      <td>District</td>\n      <td>4761</td>\n      <td>$3,094,650.00</td>\n      <td>$650.00</td>\n      <td>77.07</td>\n      <td>80.97</td>\n      <td>66.06</td>\n      <td>81.22</td>\n      <td>73.64</td>\n    </tr>\n    <tr>\n      <th>Huang High School</th>\n      <td>District</td>\n      <td>2917</td>\n      <td>$1,910,635.00</td>\n      <td>$655.00</td>\n      <td>76.63</td>\n      <td>81.18</td>\n      <td>65.68</td>\n      <td>81.32</td>\n      <td>73.50</td>\n    </tr>\n    <tr>\n      <th>Figueroa High School</th>\n      <td>District</td>\n      <td>2949</td>\n      <td>$1,884,411.00</td>\n      <td>$639.00</td>\n      <td>76.71</td>\n      <td>81.16</td>\n      <td>65.99</td>\n      <td>80.74</td>\n      <td>73.36</td>\n    </tr>\n    <tr>\n      <th>Rodriguez High School</th>\n      <td>District</td>\n      <td>3999</td>\n      <td>$2,547,363.00</td>\n      <td>$637.00</td>\n      <td>76.84</td>\n      <td>80.74</td>\n      <td>66.37</td>\n      <td>80.22</td>\n      <td>73.30</td>\n    </tr>\n  </tbody>\n</table>\n</div>"
     },
     "metadata": {},
     "output_type": "execute_result",
     "execution_count": 91
    }
   ],
   "source": [
    "### Bottom Performing Schools (By Passing Rate)\n",
    "#* Create a table that highlights the bottom 5 performing schools based on Overall Passing Rate. Include all of the same metrics as above.\n",
    "bottom_five_schools = df_schoolsummary.sort_values([\"Overall Passing Rate\"],ascending = False).tail(5)\n",
    "bottom_five_schools"
   ]
  },
  {
   "cell_type": "markdown",
   "metadata": {
    "collapsed": true
   },
   "source": [
    "## Math Scores by Grade"
   ]
  },
  {
   "cell_type": "markdown",
   "metadata": {},
   "source": [
    "* Create a table that lists the average Reading Score for students of each grade level (9th, 10th, 11th, 12th) at each school.\n",
    "\n",
    "  * Create a pandas series for each grade. Hint: use a conditional statement.\n",
    "  \n",
    "  * Group each series by school\n",
    "  \n",
    "  * Combine the series into a dataframe\n",
    "  \n",
    "  * Optional: give the displayed data cleaner formatting"
   ]
  },
  {
   "cell_type": "code",
   "execution_count": 99,
   "metadata": {
    "pycharm": {
     "is_executing": false
    }
   },
   "outputs": [
    {
     "data": {
      "text/plain": "grade\n10th    78.94\n11th    79.08\n12th    78.99\n9th     78.94\nName: math_score, dtype: float64"
     },
     "metadata": {},
     "output_type": "execute_result",
     "execution_count": 99
    }
   ],
   "source": [
    "# * Create a table that lists the average Math Score for students of each grade level (9th, 10th, 11th, 12th) at each school\n",
    "avg_math_score_by_grade = round(school_data_complete.groupby([\"grade\"]).mean()[\"math_score\"],2)\n",
    "avg_math_score_by_grade\n"
   ]
  },
  {
   "cell_type": "markdown",
   "metadata": {},
   "source": [
    "## Reading Score by Grade "
   ]
  },
  {
   "cell_type": "markdown",
   "metadata": {},
   "source": [
    "* Perform the same operations as above for reading scores"
   ]
  },
  {
   "cell_type": "code",
   "execution_count": 93,
   "metadata": {
    "pycharm": {
     "is_executing": false
    }
   },
   "outputs": [
    {
     "data": {
      "text/plain": "grade\n10th    81.87\n11th    81.89\n12th    81.82\n9th     81.91\nName: reading_score, dtype: float64"
     },
     "metadata": {},
     "output_type": "execute_result",
     "execution_count": 93
    }
   ],
   "source": [
    "# * Create a table that lists the average Reading Score for students of each grade level (9th, 10th, 11th, 12th) at each school.\n",
    "avg_reading_score_by_grade = round(school_data_complete.groupby([\"grade\"]).mean()[\"reading_score\"],2)\n",
    "avg_reading_score_by_grade"
   ]
  },
  {
   "cell_type": "markdown",
   "metadata": {},
   "source": [
    "## Scores by School Spending"
   ]
  },
  {
   "cell_type": "markdown",
   "metadata": {},
   "source": [
    "* Create a table that breaks down school performances based on average Spending Ranges (Per Student). Use 4 reasonable bins to group school spending. Include in the table each of the following:\n",
    "  * Average Math Score\n",
    "  * Average Reading Score\n",
    "  * % Passing Math\n",
    "  * % Passing Reading\n",
    "  * Overall Passing Rate (Average of the above two)"
   ]
  },
  {
   "cell_type": "code",
   "execution_count": 94,
   "metadata": {
    "pycharm": {
     "is_executing": false
    }
   },
   "outputs": [],
   "source": [
    "# Sample bins. Feel free to create your own bins.\n",
    "spending_bins = [0, 585, 615, 645, 675]\n",
    "group_names = [\"<$585\", \"$585-615\", \"$615-645\", \"$645-675\"]"
   ]
  },
  {
   "cell_type": "code",
   "execution_count": 95,
   "metadata": {
    "pycharm": {
     "is_executing": false
    }
   },
   "outputs": [
    {
     "name": "stdout",
     "text": [
      "[655.0, 639.0, 600.0, 652.0, 625.0, 578.0, 582.0, 628.0, 581.0, 609.0, 583.0, 637.0, 650.0, 644.0, 638.0]\n"
     ],
     "output_type": "stream"
    },
    {
     "data": {
      "text/plain": "                               Average Math Score (Spending)  \\\nSpending Ranges (Per Student)                                  \n<$585                                                  83.45   \n$585-615                                               83.60   \n$615-645                                               79.08   \n$645-675                                               77.00   \n\n                               Average Reading Score (Spending)  \\\nSpending Ranges (Per Student)                                     \n<$585                                                     83.94   \n$585-615                                                  83.88   \n$615-645                                                  81.89   \n$645-675                                                  81.03   \n\n                               % Passing Math (Spending)  \\\nSpending Ranges (Per Student)                              \n<$585                                              93.46   \n$585-615                                           94.23   \n$615-645                                           75.67   \n$645-675                                           66.16   \n\n                               %Passing Reading (Spending)  \\\nSpending Ranges (Per Student)                                \n<$585                                                96.61   \n$585-615                                             95.90   \n$615-645                                             86.11   \n$645-675                                             81.13   \n\n                               Overall Passing rate (Spending)  \nSpending Ranges (Per Student)                                   \n<$585                                                   95.035  \n$585-615                                                95.065  \n$615-645                                                80.890  \n$645-675                                                73.645  ",
      "text/html": "<div>\n<style scoped>\n    .dataframe tbody tr th:only-of-type {\n        vertical-align: middle;\n    }\n\n    .dataframe tbody tr th {\n        vertical-align: top;\n    }\n\n    .dataframe thead th {\n        text-align: right;\n    }\n</style>\n<table border=\"1\" class=\"dataframe\">\n  <thead>\n    <tr style=\"text-align: right;\">\n      <th></th>\n      <th>Average Math Score (Spending)</th>\n      <th>Average Reading Score (Spending)</th>\n      <th>% Passing Math (Spending)</th>\n      <th>%Passing Reading (Spending)</th>\n      <th>Overall Passing rate (Spending)</th>\n    </tr>\n    <tr>\n      <th>Spending Ranges (Per Student)</th>\n      <th></th>\n      <th></th>\n      <th></th>\n      <th></th>\n      <th></th>\n    </tr>\n  </thead>\n  <tbody>\n    <tr>\n      <th>&lt;$585</th>\n      <td>83.45</td>\n      <td>83.94</td>\n      <td>93.46</td>\n      <td>96.61</td>\n      <td>95.035</td>\n    </tr>\n    <tr>\n      <th>$585-615</th>\n      <td>83.60</td>\n      <td>83.88</td>\n      <td>94.23</td>\n      <td>95.90</td>\n      <td>95.065</td>\n    </tr>\n    <tr>\n      <th>$615-645</th>\n      <td>79.08</td>\n      <td>81.89</td>\n      <td>75.67</td>\n      <td>86.11</td>\n      <td>80.890</td>\n    </tr>\n    <tr>\n      <th>$645-675</th>\n      <td>77.00</td>\n      <td>81.03</td>\n      <td>66.16</td>\n      <td>81.13</td>\n      <td>73.645</td>\n    </tr>\n  </tbody>\n</table>\n</div>"
     },
     "metadata": {},
     "output_type": "execute_result",
     "execution_count": 95
    }
   ],
   "source": [
    "print(stu_budget_list)\n",
    "df_schoolsummary[\"Spending Ranges (Per Student)\"] = pd.cut(stu_budget_list,spending_bins,labels=group_names)\n",
    "\n",
    "### calculate scores by spending range...\n",
    "avg_math_score_spending = round(df_schoolsummary.groupby([\"Spending Ranges (Per Student)\"]).mean()[\"average_math_score\"],2)\n",
    "avg_reading_score_spending = round(df_schoolsummary.groupby([\"Spending Ranges (Per Student)\"]).mean()[\"average_read_score\"],2)\n",
    "students_passing_math_spending = round(df_schoolsummary.groupby([\"Spending Ranges (Per Student)\"]).mean()[\"% Passing Math\"],2)\n",
    "students_passing_reading_spending = round(df_schoolsummary.groupby([\"Spending Ranges (Per Student)\"]).mean()[\"% Passing Reading\"],2)\n",
    "overall_pass_rate_spending = (students_passing_math_spending + students_passing_reading_spending)/2\n",
    "# \n",
    "scores_based_spending = pd.DataFrame({\"Average Math Score (Spending)\":avg_math_score_spending,\n",
    "                                      \"Average Reading Score (Spending)\":avg_reading_score_spending,\n",
    "                                      \"% Passing Math (Spending)\":students_passing_math_spending,\n",
    "                                      \"%Passing Reading (Spending)\":students_passing_reading_spending ,\n",
    "                                      \"Overall Passing rate (Spending)\":overall_pass_rate_spending})\n",
    "\n",
    "# #Minor data Munging\n",
    "scores_based_spending = scores_based_spending[[\"Average Math Score (Spending)\",\"Average Reading Score (Spending)\",\"% Passing Math (Spending)\",\n",
    "                                               \"%Passing Reading (Spending)\",\"Overall Passing rate (Spending)\"]]\n",
    "                                              \n",
    "scores_based_spending"
   ]
  },
  {
   "cell_type": "markdown",
   "source": [
    "## Scores by School Size"
   ],
   "metadata": {
    "collapsed": false
   }
  },
  {
   "cell_type": "markdown",
   "metadata": {},
   "source": [
    "* Perform the same operations as above, based on school size."
   ]
  },
  {
   "cell_type": "code",
   "execution_count": 96,
   "metadata": {
    "pycharm": {
     "is_executing": false
    }
   },
   "outputs": [],
   "source": [
    "# Sample bins. Feel free to create your own bins.\n",
    "size_bins = [0, 1000, 2000, 5000]\n",
    "group_names = [\"Small (<1000)\", \"Medium (1000-2000)\", \"Large (2000-5000)\"]"
   ]
  },
  {
   "cell_type": "code",
   "execution_count": 97,
   "metadata": {
    "scrolled": true,
    "pycharm": {
     "is_executing": false
    }
   },
   "outputs": [
    {
     "data": {
      "text/plain": "                    Average Math Score (School Size)  \\\nSize of School                                         \nSmall (<1000)                                  83.82   \nMedium (1000-2000)                             83.37   \nLarge (2000-5000)                              77.74   \n\n                    Average Reading Score (School Size)  \\\nSize of School                                            \nSmall (<1000)                                     83.93   \nMedium (1000-2000)                                83.87   \nLarge (2000-5000)                                 81.34   \n\n                    % Passing Math (School Size)  \\\nSize of School                                     \nSmall (<1000)                              93.55   \nMedium (1000-2000)                         93.60   \nLarge (2000-5000)                          69.96   \n\n                    %Passing Reading (School Size)  \\\nSize of School                                       \nSmall (<1000)                                96.10   \nMedium (1000-2000)                           96.79   \nLarge (2000-5000)                            82.77   \n\n                    Overall Passing rate (School Size)  \nSize of School                                          \nSmall (<1000)                                   94.825  \nMedium (1000-2000)                              95.195  \nLarge (2000-5000)                               76.365  ",
      "text/html": "<div>\n<style scoped>\n    .dataframe tbody tr th:only-of-type {\n        vertical-align: middle;\n    }\n\n    .dataframe tbody tr th {\n        vertical-align: top;\n    }\n\n    .dataframe thead th {\n        text-align: right;\n    }\n</style>\n<table border=\"1\" class=\"dataframe\">\n  <thead>\n    <tr style=\"text-align: right;\">\n      <th></th>\n      <th>Average Math Score (School Size)</th>\n      <th>Average Reading Score (School Size)</th>\n      <th>% Passing Math (School Size)</th>\n      <th>%Passing Reading (School Size)</th>\n      <th>Overall Passing rate (School Size)</th>\n    </tr>\n    <tr>\n      <th>Size of School</th>\n      <th></th>\n      <th></th>\n      <th></th>\n      <th></th>\n      <th></th>\n    </tr>\n  </thead>\n  <tbody>\n    <tr>\n      <th>Small (&lt;1000)</th>\n      <td>83.82</td>\n      <td>83.93</td>\n      <td>93.55</td>\n      <td>96.10</td>\n      <td>94.825</td>\n    </tr>\n    <tr>\n      <th>Medium (1000-2000)</th>\n      <td>83.37</td>\n      <td>83.87</td>\n      <td>93.60</td>\n      <td>96.79</td>\n      <td>95.195</td>\n    </tr>\n    <tr>\n      <th>Large (2000-5000)</th>\n      <td>77.74</td>\n      <td>81.34</td>\n      <td>69.96</td>\n      <td>82.77</td>\n      <td>76.365</td>\n    </tr>\n  </tbody>\n</table>\n</div>"
     },
     "metadata": {},
     "output_type": "execute_result",
     "execution_count": 97
    }
   ],
   "source": [
    "df_schoolsummary[\"Size of School\"] = pd.cut(df_schoolsummary['student_count'],size_bins,labels=group_names)\n",
    "# ### calculate scores by school size now....\n",
    "# \n",
    "avg_math_score_school_size = round(df_schoolsummary.groupby([\"Size of School\"]).mean()[\"average_math_score\"],2)\n",
    "avg_reading_score_school_size = round(df_schoolsummary.groupby([\"Size of School\"]).mean()[\"average_read_score\"],2)\n",
    "students_passing_math_school_size = round(df_schoolsummary.groupby([\"Size of School\"]).mean()[\"% Passing Math\"],2)\n",
    "students_passing_reading_school_size = round(df_schoolsummary.groupby([\"Size of School\"]).mean()[\"% Passing Reading\"],2)\n",
    "overall_pass_rate_school_size = (students_passing_math_school_size + students_passing_reading_school_size)/2\n",
    "# \n",
    "scores_based_school_size = pd.DataFrame({\"Average Math Score (School Size)\":avg_math_score_school_size,\n",
    "                                      \"Average Reading Score (School Size)\":avg_reading_score_school_size,\n",
    "                                      \"% Passing Math (School Size)\":students_passing_math_school_size,\n",
    "                                      \"%Passing Reading (School Size)\":students_passing_reading_school_size ,\n",
    "                                      \"Overall Passing rate (School Size)\":overall_pass_rate_school_size})\n",
    " \n",
    "# #display the dataframe\n",
    "scores_based_school_size\n",
    "\n"
   ]
  },
  {
   "cell_type": "markdown",
   "metadata": {},
   "source": [
    "## Scores by School Type"
   ]
  },
  {
   "cell_type": "markdown",
   "metadata": {},
   "source": [
    "* Perform the same operations as above, based on school type."
   ]
  },
  {
   "cell_type": "code",
   "execution_count": 98,
   "metadata": {
    "pycharm": {
     "is_executing": false
    }
   },
   "outputs": [
    {
     "data": {
      "text/plain": "          Average Math Score (School Type)  \\\ntype                                         \nCharter                              83.47   \nDistrict                             76.96   \n\n          Average Reading Score (School Type)  % Passing Math (School Type)  \\\ntype                                                                          \nCharter                                 83.90                         93.62   \nDistrict                                80.97                         66.55   \n\n          %Passing Reading (School Type)  Overall Passing rate (School Type)  \ntype                                                                          \nCharter                            96.59                              95.105  \nDistrict                           80.80                              73.675  ",
      "text/html": "<div>\n<style scoped>\n    .dataframe tbody tr th:only-of-type {\n        vertical-align: middle;\n    }\n\n    .dataframe tbody tr th {\n        vertical-align: top;\n    }\n\n    .dataframe thead th {\n        text-align: right;\n    }\n</style>\n<table border=\"1\" class=\"dataframe\">\n  <thead>\n    <tr style=\"text-align: right;\">\n      <th></th>\n      <th>Average Math Score (School Type)</th>\n      <th>Average Reading Score (School Type)</th>\n      <th>% Passing Math (School Type)</th>\n      <th>%Passing Reading (School Type)</th>\n      <th>Overall Passing rate (School Type)</th>\n    </tr>\n    <tr>\n      <th>type</th>\n      <th></th>\n      <th></th>\n      <th></th>\n      <th></th>\n      <th></th>\n    </tr>\n  </thead>\n  <tbody>\n    <tr>\n      <th>Charter</th>\n      <td>83.47</td>\n      <td>83.90</td>\n      <td>93.62</td>\n      <td>96.59</td>\n      <td>95.105</td>\n    </tr>\n    <tr>\n      <th>District</th>\n      <td>76.96</td>\n      <td>80.97</td>\n      <td>66.55</td>\n      <td>80.80</td>\n      <td>73.675</td>\n    </tr>\n  </tbody>\n</table>\n</div>"
     },
     "metadata": {},
     "output_type": "execute_result",
     "execution_count": 98
    }
   ],
   "source": [
    "avg_math_score_school_type = round(df_schoolsummary.groupby([\"type\"]).mean()[\"average_math_score\"],2)\n",
    "avg_reading_score_school_type = round(df_schoolsummary.groupby([\"type\"]).mean()[\"average_read_score\"],2)\n",
    "students_passing_math_school_type = round(df_schoolsummary.groupby([\"type\"]).mean()[\"% Passing Math\"],2)\n",
    "students_passing_reading_school_type = round(df_schoolsummary.groupby([\"type\"]).mean()[\"% Passing Reading\"],2)\n",
    "overall_pass_rate_school_type = (students_passing_math_school_type + students_passing_reading_school_type)/2\n",
    "# \n",
    "scores_based_school_type = pd.DataFrame({\"Average Math Score (School Type)\":avg_math_score_school_type,\n",
    "                                      \"Average Reading Score (School Type)\":avg_reading_score_school_type,\n",
    "                                      \"% Passing Math (School Type)\":students_passing_math_school_type,\n",
    "                                      \"%Passing Reading (School Type)\":students_passing_reading_school_type ,\n",
    "                                      \"Overall Passing rate (School Type)\":overall_pass_rate_school_type})\n",
    "\n",
    "scores_based_school_type"
   ]
  },
  {
   "cell_type": "code",
   "execution_count": 98,
   "metadata": {
    "pycharm": {
     "is_executing": false
    }
   },
   "outputs": [],
   "source": []
  }
 ],
 "metadata": {
  "anaconda-cloud": {},
  "kernel_info": {
   "name": "python3"
  },
  "kernelspec": {
   "name": "pycharm-9fd3a01a",
   "language": "python",
   "display_name": "PyCharm (LearningPandas)"
  },
  "language_info": {
   "codemirror_mode": {
    "name": "ipython",
    "version": 3
   },
   "file_extension": ".py",
   "mimetype": "text/x-python",
   "name": "python",
   "nbconvert_exporter": "python",
   "pygments_lexer": "ipython3",
   "version": "3.7.3"
  },
  "latex_envs": {
   "LaTeX_envs_menu_present": true,
   "autoclose": false,
   "autocomplete": true,
   "bibliofile": "biblio.bib",
   "cite_by": "apalike",
   "current_citInitial": 1,
   "eqLabelWithNumbers": true,
   "eqNumInitial": 1,
   "hotkeys": {
    "equation": "Ctrl-E",
    "itemize": "Ctrl-I"
   },
   "labels_anchors": false,
   "latex_user_defs": false,
   "report_style_numbering": false,
   "user_envs_cfg": false
  },
  "nteract": {
   "version": "0.8.4"
  },
  "pycharm": {
   "stem_cell": {
    "cell_type": "raw",
    "source": [],
    "metadata": {
     "collapsed": false
    }
   }
  }
 },
 "nbformat": 4,
 "nbformat_minor": 1
}